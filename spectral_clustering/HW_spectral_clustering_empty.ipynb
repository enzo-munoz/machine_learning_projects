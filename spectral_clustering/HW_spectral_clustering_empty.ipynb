{
 "cells": [
  {
   "cell_type": "code",
   "execution_count": 2,
   "metadata": {
    "executionInfo": {
     "elapsed": 413,
     "status": "ok",
     "timestamp": 1729588625867,
     "user": {
      "displayName": "enzo munoz",
      "userId": "17666272416348414467"
     },
     "user_tz": -120
    },
    "id": "S6i-FmLQ8kcz"
   },
   "outputs": [],
   "source": [
    "import pandas as pd\n",
    "import matplotlib.pyplot as plt\n",
    "import numpy as np\n",
    "from scipy.sparse import csr_matrix\n"
   ]
  },
  {
   "cell_type": "markdown",
   "metadata": {
    "id": "mkrrTfUFdut7"
   },
   "source": [
    "## Degree in Data Science and Engineering, group 96\n",
    "## Double Degree in Data Science and Engineering\n",
    "## & Engineering in Telecommunication Technologies, group 196\n",
    "## Machine Learning 2\n",
    "### Fall 2024\n",
    "\n",
    "&nbsp;\n",
    "&nbsp;\n",
    "&nbsp;\n",
    "# Lab 3. Customer Segmentation\n",
    "\n",
    "&nbsp;\n",
    "&nbsp;\n",
    "&nbsp;\n",
    "\n",
    "**Emilio Parrado Hernández**, **David Martínez Rubio**\n",
    "\n",
    "Dept. of Signal Processing and Communications\n",
    "\n",
    "&nbsp;\n",
    "&nbsp;\n",
    "&nbsp;\n",
    "\n",
    "\n",
    "\n",
    "\n",
    "<img src='http://www.tsc.uc3m.es/~emipar/BBVA/INTRO/img/logo_uc3m_foot.jpg' width=400 />"
   ]
  },
  {
   "cell_type": "markdown",
   "metadata": {
    "id": "rmoYleqFdut8"
   },
   "source": [
    "# Introduction\n",
    "\n",
    "---\n",
    "\n",
    "The task to solve in this project is to segment a collection of users of a streaming service. This problem is usually found in **Recommender Systems**. The data set comes from a benchmark problem called [MovieLens](https://grouplens.org/datasets/movielens/).\n",
    "\n",
    "The original data consists of a set of *ratings* between 1 and 5 points about movies carried out by users of the *MovieLens* web. We have simplified the problem generating a label equal to $+1$ for ratings greater or equal than $4$ and a label of $-1$ for ratings smaller than $4$.\n",
    "\n",
    "The goal of the project is to find groups of users that share preferences by means of clustering algorithms and to try to interpret the resulting groups."
   ]
  },
  {
   "cell_type": "markdown",
   "metadata": {
    "executionInfo": {
     "elapsed": 6,
     "status": "ok",
     "timestamp": 1633157262725,
     "user": {
      "displayName": "EMILIO PARRADO HERNANDEZ",
      "photoUrl": "https://lh3.googleusercontent.com/a-/AOh14Ghu-OvX6osyVq8b7J4Xa7D7HiZ61sPYwKqgPxyJ=s64",
      "userId": "09506376050266996513"
     },
     "user_tz": -120
    },
    "id": "dx2mbI53hKLK"
   },
   "source": [
    "# Load dataset\n",
    "\n",
    "---\n",
    "\n",
    "The following cells load the csv files with the data into pandas dataframes and shows a few lines of each dataframe:\n",
    "\n",
    "- `my_movies.csv`: set of rated movies. For each movie we have an identifier `movieId` and its title.\n",
    "\n",
    "- `my_ratings.csv`: Each lines registers the rating given by the user identified with `userId` to the movie with identifier `movieId`. Column `label` indicates if `userId` liked the movie (label=$+1$) or not (label=$-1$)."
   ]
  },
  {
   "cell_type": "code",
   "execution_count": null,
   "metadata": {
    "colab": {
     "base_uri": "https://localhost:8080/"
    },
    "executionInfo": {
     "elapsed": 890,
     "status": "ok",
     "timestamp": 1729588627488,
     "user": {
      "displayName": "enzo munoz",
      "userId": "17666272416348414467"
     },
     "user_tz": -120
    },
    "id": "N7Q9jcZa8-EL",
    "outputId": "55bbe963-7fff-42d4-aae3-3cf7c7bb1155"
   },
   "outputs": [
    {
     "data": {
      "text/plain": [
       "(pandas.core.frame.DataFrame, pandas.core.frame.DataFrame)"
      ]
     },
     "execution_count": 5,
     "metadata": {},
     "output_type": "execute_result"
    }
   ],
   "source": [
    "import pandas as pd\n",
    "movies = pd.read_csv('movies.csv')\n",
    "movies = movies.drop('genres', axis=1)\n",
    "ratings = pd.read_csv('ratings.csv')\n",
    "ratings['value'] = ratings['rating'].map(lambda x: -1 if x <= 2.5 else 1)\n",
    "ratings = ratings.drop('rating', axis=1)\n",
    "ratings = ratings.drop('timestamp', axis=1)\n",
    "type(movies), type(ratings)"
   ]
  },
  {
   "cell_type": "code",
   "execution_count": 6,
   "metadata": {
    "colab": {
     "base_uri": "https://localhost:8080/",
     "height": 206
    },
    "executionInfo": {
     "elapsed": 19,
     "status": "ok",
     "timestamp": 1729588627489,
     "user": {
      "displayName": "enzo munoz",
      "userId": "17666272416348414467"
     },
     "user_tz": -120
    },
    "id": "YzeutkJL9aHB",
    "outputId": "f1eb060c-02ff-4c9c-f408-bc90f55d44da"
   },
   "outputs": [
    {
     "data": {
      "text/html": [
       "<div>\n",
       "<style scoped>\n",
       "    .dataframe tbody tr th:only-of-type {\n",
       "        vertical-align: middle;\n",
       "    }\n",
       "\n",
       "    .dataframe tbody tr th {\n",
       "        vertical-align: top;\n",
       "    }\n",
       "\n",
       "    .dataframe thead th {\n",
       "        text-align: right;\n",
       "    }\n",
       "</style>\n",
       "<table border=\"1\" class=\"dataframe\">\n",
       "  <thead>\n",
       "    <tr style=\"text-align: right;\">\n",
       "      <th></th>\n",
       "      <th>movieId</th>\n",
       "      <th>title</th>\n",
       "    </tr>\n",
       "  </thead>\n",
       "  <tbody>\n",
       "    <tr>\n",
       "      <th>0</th>\n",
       "      <td>1</td>\n",
       "      <td>Toy Story (1995)</td>\n",
       "    </tr>\n",
       "    <tr>\n",
       "      <th>1</th>\n",
       "      <td>2</td>\n",
       "      <td>Jumanji (1995)</td>\n",
       "    </tr>\n",
       "    <tr>\n",
       "      <th>2</th>\n",
       "      <td>3</td>\n",
       "      <td>Grumpier Old Men (1995)</td>\n",
       "    </tr>\n",
       "    <tr>\n",
       "      <th>3</th>\n",
       "      <td>4</td>\n",
       "      <td>Waiting to Exhale (1995)</td>\n",
       "    </tr>\n",
       "    <tr>\n",
       "      <th>4</th>\n",
       "      <td>5</td>\n",
       "      <td>Father of the Bride Part II (1995)</td>\n",
       "    </tr>\n",
       "  </tbody>\n",
       "</table>\n",
       "</div>"
      ],
      "text/plain": [
       "   movieId                               title\n",
       "0        1                    Toy Story (1995)\n",
       "1        2                      Jumanji (1995)\n",
       "2        3             Grumpier Old Men (1995)\n",
       "3        4            Waiting to Exhale (1995)\n",
       "4        5  Father of the Bride Part II (1995)"
      ]
     },
     "execution_count": 6,
     "metadata": {},
     "output_type": "execute_result"
    }
   ],
   "source": [
    "movies.head()"
   ]
  },
  {
   "cell_type": "code",
   "execution_count": 7,
   "metadata": {
    "colab": {
     "base_uri": "https://localhost:8080/",
     "height": 206
    },
    "executionInfo": {
     "elapsed": 17,
     "status": "ok",
     "timestamp": 1729588627489,
     "user": {
      "displayName": "enzo munoz",
      "userId": "17666272416348414467"
     },
     "user_tz": -120
    },
    "id": "9l_DjHhQ9fG9",
    "outputId": "830a88ff-0a0a-4348-a0a2-c3cb4439bb3e"
   },
   "outputs": [
    {
     "data": {
      "text/html": [
       "<div>\n",
       "<style scoped>\n",
       "    .dataframe tbody tr th:only-of-type {\n",
       "        vertical-align: middle;\n",
       "    }\n",
       "\n",
       "    .dataframe tbody tr th {\n",
       "        vertical-align: top;\n",
       "    }\n",
       "\n",
       "    .dataframe thead th {\n",
       "        text-align: right;\n",
       "    }\n",
       "</style>\n",
       "<table border=\"1\" class=\"dataframe\">\n",
       "  <thead>\n",
       "    <tr style=\"text-align: right;\">\n",
       "      <th></th>\n",
       "      <th>userId</th>\n",
       "      <th>movieId</th>\n",
       "      <th>timestamp</th>\n",
       "      <th>value</th>\n",
       "    </tr>\n",
       "  </thead>\n",
       "  <tbody>\n",
       "    <tr>\n",
       "      <th>0</th>\n",
       "      <td>1</td>\n",
       "      <td>1</td>\n",
       "      <td>964982703</td>\n",
       "      <td>1</td>\n",
       "    </tr>\n",
       "    <tr>\n",
       "      <th>1</th>\n",
       "      <td>1</td>\n",
       "      <td>3</td>\n",
       "      <td>964981247</td>\n",
       "      <td>1</td>\n",
       "    </tr>\n",
       "    <tr>\n",
       "      <th>2</th>\n",
       "      <td>1</td>\n",
       "      <td>6</td>\n",
       "      <td>964982224</td>\n",
       "      <td>1</td>\n",
       "    </tr>\n",
       "    <tr>\n",
       "      <th>3</th>\n",
       "      <td>1</td>\n",
       "      <td>47</td>\n",
       "      <td>964983815</td>\n",
       "      <td>1</td>\n",
       "    </tr>\n",
       "    <tr>\n",
       "      <th>4</th>\n",
       "      <td>1</td>\n",
       "      <td>50</td>\n",
       "      <td>964982931</td>\n",
       "      <td>1</td>\n",
       "    </tr>\n",
       "  </tbody>\n",
       "</table>\n",
       "</div>"
      ],
      "text/plain": [
       "   userId  movieId  timestamp  value\n",
       "0       1        1  964982703      1\n",
       "1       1        3  964981247      1\n",
       "2       1        6  964982224      1\n",
       "3       1       47  964983815      1\n",
       "4       1       50  964982931      1"
      ]
     },
     "execution_count": 7,
     "metadata": {},
     "output_type": "execute_result"
    }
   ],
   "source": [
    "ratings.head()"
   ]
  },
  {
   "cell_type": "markdown",
   "metadata": {
    "id": "OamcdAz3duuC"
   },
   "source": [
    "# Finding a robust clustering with a little supervision\n",
    "\n",
    "Clustering belongs to the non-supervised machine learning family. However, in order to have a means to assess the quality of the groups found by the clustering algorithms that you will use later, we propose the following means (sort of cross validation) to get a little supervision.\n",
    "\n",
    "The underlying assumption is that the preferences of each user can be defined by the ratings in a way that if a user is presented with two separate sets of movies, the ratings given by this user to any of the two sets are equally informative to define this user's preferences.\n",
    "\n",
    "In other words, you will implement the following strategy to evaluate the quality of the segmentation given by fitting a clustering method with a particular set of hyperparameters:\n",
    "\n",
    "- Split the set of movies into two subset.\n",
    "\n",
    "- For each combination of the hyperparameters that define the clustering model you will fit two instances of the model, one with each subset of movies.\n",
    "\n",
    "- The above underlying assumption involves that if the set of hyperparameters leads to a good clustering, two two clusterings found for each subset will be very similar: If two users have very similar preferences, they will end up in the same group in both clusterings (conversely, if two users have different preferences, they will end up in different groups independently of the set of movies used to fit the clustering method).\n",
    "\n",
    "- In order to use the similarity between the two clusterings as a proxy to assess the suitability of the hyperparameters, we suggest to measure this similarity with the [Mutual Information](https://scikit-learn.org/stable/modules/generated/sklearn.metrics.mutual_info_score.html)."
   ]
  },
  {
   "cell_type": "markdown",
   "metadata": {
    "id": "55AMA6W1duuC"
   },
   "source": [
    "# 1.- Split the movie set into two subsets\n",
    "\n",
    "\n",
    "Obtain two lists: `idx_movies_1` and`idx_movies_2` with approximately the same number of movies.\n",
    "\n",
    "Hint: sort the movies by number of ratings and put the even positions in a group and the odd positions in the other, so that both sets contain the same proportion of movies with many ratings and movies with few ratings.\n"
   ]
  },
  {
   "cell_type": "code",
   "execution_count": 11,
   "metadata": {
    "colab": {
     "base_uri": "https://localhost:8080/"
    },
    "executionInfo": {
     "elapsed": 393,
     "status": "ok",
     "timestamp": 1729588736839,
     "user": {
      "displayName": "enzo munoz",
      "userId": "17666272416348414467"
     },
     "user_tz": -120
    },
    "id": "IF2i33EOduuD",
    "outputId": "04d643df-fcae-4efa-ad53-b3a08d6d7635"
   },
   "outputs": [
    {
     "name": "stdout",
     "output_type": "stream",
     "text": [
      "movieId\n",
      "355       329\n",
      "317       317\n",
      "295       307\n",
      "592       279\n",
      "2570      278\n",
      "         ... \n",
      "2989       20\n",
      "318        20\n",
      "4979       20\n",
      "27659      20\n",
      "106917     20\n",
      "Name: count, Length: 1297, dtype: int64\n",
      "[355, 295, 2570, 479, 588, 2958, 1195, 2857, 779, 1197, 1209, 456, 5951, 7152, 607, 379, 363, 376, 3577, 589, 343, 366, 58558, 594, 164, 1264, 1196, 6376, 315, 1720, 1135, 3792, 230, 4885, 1088, 1239, 1220, 33, 1212, 8960, 4994, 1096, 732, 4972, 5444, 1072, 585, 1526, 5988, 1967, 184, 348, 3995, 252, 923, 1257, 328, 4895, 1731, 1922, 60068, 110, 356, 2705, 1221, 777, 433, 4021, 911, 103, 338, 749, 3113, 3948, 6364, 4026, 2501, 550, 2395, 1916, 287, 5377, 1355, 3947, 1258, 48779, 20, 2915, 2323, 2010, 2790, 1245, 1390, 5217, 1306, 409, 94, 1218, 1100, 15, 299, 48393, 316, 1675, 61, 8635, 3051, 33492, 336, 46577, 1624, 593, 6332, 439, 2699, 3174, 2691, 8664, 1484, 35835, 3993, 50871, 45721, 1027, 63081, 6372, 234, 473, 3407, 4033, 519, 7146, 265, 1379, 2053, 3752, 4261, 35, 74457, 16, 1287, 6862, 5480, 652, 554, 552, 1233, 4446, 1034, 352, 785, 1089, 5501, 56173, 41565, 3670, 3080, 1373, 1126, 5458, 2320, 51254, 508, 8643, 1376, 902, 3470, 465, 419, 3032, 1198, 1251, 2301, 6377, 5668, 952, 81844, 707, 73016, 1229, 34161, 6501, 8640, 907, 80462, 349, 2004, 2394, 1640, 1147, 1301, 4369, 54502, 2079, 4307, 431, 59783, 783, 4017, 122903, 6, 167, 672, 3488, 1996, 76092, 1281, 2077, 49529, 45498, 1465, 2, 3159, 224, 109373, 4847, 4775, 1214, 2104, 3784, 34404, 88124, 332, 8360, 909, 5463, 660, 3175, 5990, 215, 8783, 1747, 2762, 30748, 2018, 2999, 1274, 7292, 2716, 1366, 5678, 77560, 122881, 1920, 4013, 898, 47098, 111, 5059, 43, 4084, 5994, 5901, 2001, 1265, 2889, 1906, 3862, 4570, 1182, 2293, 1721, 6536, 235, 3254, 2489, 8797, 52721, 33003, 79701, 1332, 4974, 5902, 912, 46975, 87231, 2277, 47609, 1875, 60683, 2406, 3274, 134852, 2160, 1262, 496, 2454, 2723, 91657, 1041, 3300, 3209, 440, 784, 260, 2272, 354, 1374, 1966, 493, 2002, 542, 3616, 115616, 4298, 45516, 7372, 57668, 3702, 1227, 6806, 2192, 528, 44198, 2540, 1568, 281, 1232, 1031, 27772, 7450, 1128, 40818, 2950, 3173, 2093, 58997, 1407, 3825, 53995, 2760, 3299, 2745, 1672, 112551, 3701, 2769, 8532, 8949, 28, 91541, 79090, 7089, 30, 831, 1019, 4015, 2020, 454, 57, 5970, 92258, 3966, 179, 21, 584, 44194, 1344, 670, 3246, 344, 34149, 3107, 6946, 38060, 1083, 31695, 1028, 60039, 804, 30811, 169, 913, 7444, 255, 523, 8806, 54258, 1946, 59, 5253, 86331, 1662, 64838, 4733, 6286, 1286, 361, 44554, 1917, 1046, 5387, 1881, 1271, 4873, 6753, 53321, 3554, 341, 3395, 2392, 836, 3987, 6540, 1911, 2943, 3256, 1643, 8916, 68236, 302, 3284, 4360, 152080, 104840, 5063, 2063, 2952, 1746, 34318, 1565, 3385, 4889, 3005, 4445, 271, 61023, 134, 72640, 64, 2402, 203, 2057, 1266, 347, 38037, 97920, 95509, 111361, 2500, 1478, 2721, 106695, 3449, 2410, 1512, 3167, 94958, 2383, 897, 1338, 1830, 742, 6154, 4018, 2787, 46969, 3739, 56781, 1298, 115712, 45185, 74788, 3185, 1222, 197, 967, 740, 3251, 2430, 5012, 88743, 1981, 3967, 1292, 122917, 5871, 2231, 1020, 1346, 37732, 166527, 719, 921, 3071, 879, 3268, 3253, 93509, 2477, 2615, 1590, 2408, 3637, 1475, 6956, 5573, 3868, 915, 3147, 1234, 3968, 4127, 106486, 53518, 68318, 1024, 2871, 5616, 3461, 2985, 4822, 2019, 2185, 2351, 106488, 1085, 106919, 54996, 51934, 1679, 8982, 2393, 3533, 2365, 1211, 4488, 229, 2409, 3036, 514, 1356, 1384, 1124, 5506, 1036, 1882, 1448, 5102, 81846, 2686, 2992, 2527, 7453, 56774, 86879, 1030, 925, 8370, 1408, 561, 4022, 1961, 2839, 104, 100, 3826, 865, 116822, 932, 45671, 2427, 2990, 3106, 7322, 2335, 5170, 2390, 5448, 5282, 2244, 91629, 2599, 1957, 1187, 747, 122919, 2641, 1230, 80488, 2706, 3104, 3099, 5953, 6772, 275, 2377, 4068, 202, 3359, 370, 3353, 7324, 706, 4246, 382, 2009, 1090, 3069, 107405, 206, 2719, 7443, 2138, 3696, 2988, 1174, 87305, 371, 105503, 79591, 3535, 2404, 106071, 518, 88809, 3297, 104210, 7345, 1014, 53463, 55289, 96587, 5880, 7370, 6282, 3909, 39291, 69525, 63130, 6887, 1428, 1687, 2052, 4864, 6872, 4622, 736, 1032, 929, 96820, 4006, 1244, 4544, 1587, 3985, 2989, 4979, 106917] \n",
      "\n",
      "[317, 592, 259, 109, 526, 0, 49, 46, 149, 4992, 857, 591, 2027, 587, 2761, 31, 1269, 4305, 1579, 647, 4225, 6538, 1213, 1035, 499, 79131, 1703, 2627, 1290, 152, 596, 1192, 292, 9, 6873, 7360, 2328, 1199, 1681, 540, 735, 5348, 2682, 1205, 2715, 4962, 33793, 207, 586, 5417, 3146, 1, 7437, 2917, 4877, 2114, 1207, 48515, 538, 68953, 38, 222, 160, 5, 5815, 291, 453, 44190, 1516, 2996, 1616, 72997, 2986, 1783, 1960, 59314, 8367, 4010, 918, 8359, 2354, 1386, 2173, 2796, 1609, 1079, 2011, 68156, 18, 2616, 5617, 140, 1652, 1392, 1219, 903, 32586, 3896, 787, 1583, 49271, 441, 54285, 2290, 51661, 1246, 6933, 3750, 3622, 1572, 8873, 69121, 24, 91528, 1224, 1999, 3480, 6015, 6710, 367, 109486, 3976, 1200, 1078, 40814, 99113, 1406, 10, 2984, 922, 1277, 89744, 4978, 1369, 47, 1543, 2541, 2352, 2080, 162, 507, 2193, 48384, 70285, 56366, 4245, 2709, 1953, 55819, 4024, 48773, 2656, 434, 157, 3420, 7142, 1303, 172, 551, 3252, 3526, 2639, 30792, 3716, 595, 2005, 5298, 1499, 33678, 6941, 112851, 1551, 68357, 3534, 1393, 2166, 1206, 69843, 1607, 54000, 369, 1202, 2267, 159, 1275, 2469, 53124, 2528, 2670, 2598, 1776, 2803, 78498, 69, 4719, 5955, 4815, 2571, 91499, 106781, 2405, 3910, 2700, 71534, 2698, 2946, 2711, 171, 484, 6869, 1638, 3551, 52972, 30706, 4238, 2099, 1644, 144, 34047, 5009, 33165, 96078, 2423, 8463, 116796, 45446, 4, 2143, 4642, 2640, 744, 134129, 1728, 7457, 2693, 185, 782, 8528, 1319, 81833, 1357, 2538, 1993, 1091, 2000, 64613, 7253, 1883, 801, 3751, 54271, 1395, 2075, 1370, 2287, 4269, 615, 31684, 919, 1249, 4368, 1203, 1689, 4717, 2022, 195, 37728, 848, 2084, 3754, 3498, 111758, 150, 5376, 3447, 4309, 76250, 1375, 3362, 3623, 8983, 1261, 1596, 2604, 251, 851, 3867, 1087, 69756, 1021, 1561, 1908, 430, 59368, 1371, 1093, 81590, 2914, 1241, 3915, 3417, 1284, 5809, 122885, 2967, 761, 2086, 55246, 33614, 41568, 31657, 223, 1673, 375, 4222, 470, 98808, 6217, 4366, 6935, 1273, 6187, 8948, 8527, 2907, 1952, 2722, 2579, 3081, 4147, 3038, 59614, 61322, 2247, 314, 276, 2017, 44664, 51539, 3361, 2288, 2123, 8971, 2419, 8621, 64956, 55764, 5265, 112555, 30809, 1092, 8375, 3033, 2580, 119144, 3509, 2947, 1059, 4637, 3100, 901, 2230, 1058, 63112, 192, 3408, 36528, 66096, 2426, 3808, 1248, 3360, 627, 718, 1171, 45719, 326, 4343, 3881, 2139, 4640, 39182, 69480, 64968, 6707, 968, 1260, 85413, 3697, 1243, 8956, 30824, 5672, 2144, 2299, 6533, 636, 2948, 3680, 4014, 609, 264, 61131, 1910, 2159, 72010, 88128, 96609, 8969, 102124, 6280, 44, 88139, 6156, 53971, 1716, 4700, 5629, 110101, 4320, 1404, 46722, 97937, 723, 108931, 139384, 88162, 3255, 1586, 1804, 837, 2422, 7021, 1270, 84151, 2870, 95166, 56756, 1372, 5218, 914, 2420, 3272, 2484, 1060, 60073, 3744, 245, 3824, 646, 115148, 5443, 1268, 82458, 1026, 1076, 60755, 51, 4231, 272, 5619, 2149, 23, 2242, 2334, 97303, 1119, 908, 6502, 4342, 4900, 57367, 8872, 52280, 1256, 1178, 2108, 40628, 102444, 4001, 94863, 1498, 6786, 80548, 4699, 122891, 3423, 122899, 3555, 3263, 1613, 1959, 3475, 5944, 2825, 106, 112182, 8782, 148625, 89491, 2358, 164178, 2794, 4387, 412, 2081, 67254, 86881, 3607, 1252, 373, 27705, 46529, 2597, 1342, 1800, 1589, 474, 53952, 6952, 3797, 168251, 3004, 3437, 1377, 6349, 1437, 214, 1944, 530, 306, 3086, 2470, 2368, 2045, 49285, 3097, 2107, 5109, 87868, 7172, 2370, 3703, 1710, 3978, 6592, 66933, 37740, 2804, 1778, 1185, 2051, 1255, 798, 7098, 1791, 1320, 4160, 117528, 4234, 46971, 44021, 2495, 81931, 1297, 5312, 97912, 3316, 1585, 63991, 1951, 54994, 226, 102902, 1349, 2133, 6322, 93839, 122921, 3262, 2095, 236, 27903, 4104, 103041, 467, 60071, 3503, 3103, 2374, 261, 6978, 2124, 5224, 2066, 545, 86832, 55268, 8909, 1964, 52999, 829, 2012, 95440, 84953, 246, 62433, 378, 2375, 3983, 41996, 2136, 37385, 1048, 53120, 72377, 34436, 4854, 2252, 2339, 4957, 31409, 88404, 36400, 81563, 174, 418, 81228, 1291, 4447, 6296, 307, 1615, 2132, 49277, 56948, 17, 68, 1103, 102406, 122915, 1296, 8968, 101863, 48737, 7386, 318, 27659]\n"
     ]
    }
   ],
   "source": [
    "### YOUR CODE\n",
    "# Sort movies by number of ratings\n",
    "movie_ratings_count = ratings['movieId'].value_counts()\n",
    "print(movie_ratings_count)\n",
    "sorted_movies = movie_ratings_count.index.tolist()\n",
    "\n",
    "# Split into two subsets\n",
    "idx_movies_1 = sorted_movies[::2]  # Even positions\n",
    "idx_movies_2 = sorted_movies[1::2] # Odd positions\n",
    "\n",
    "print(idx_movies_1,'\\n')\n",
    "print(idx_movies_2)\n"
   ]
  },
  {
   "cell_type": "markdown",
   "metadata": {
    "id": "vBAs1FUZduuE"
   },
   "source": [
    "# 2.- Construction of the affinity matrices\n",
    "\n",
    "The next step is to construct the matrices with the affinity between users that will be fed to the clustering algorithms.ientos.\n",
    "\n",
    "## 2.1.- Matrix users $\\times$ movies\n",
    "\n",
    "These matrices have one row per user and one column per movie. Position $(i,j)$ of these matrices is the label that the $i$-th user gave to the $j$-th movie. We assume label =$0$ means user $i$ hasn't watched movie $j$.\n",
    "\n",
    "Hint: use a [sparse representation](https://docs.scipy.org/doc/scipy/reference/generated/scipy.sparse.csr_matrix.html) for this matrix.\n",
    "\n",
    "Create two matrices `user_movies_sparse_1` and `user_movies_sparse_2`, each with the movies in lists  `idx_movies_1` and`idx_movies_2`.\n",
    "\n",
    "Check that in both cases all the users have their corresponding row and that each user has rated at least a movie in each matrix. If not, copy any of the movies missing in one list into the other. For instance, if user $i$ has no ratings in the movies in `user_movies_sparse_1` (because all the movies rated by this user are in  `idx_movies_2`), copy in `idx_movies_1` any/some of the movies in `idx_movies_2` rated by the user."
   ]
  },
  {
   "cell_type": "code",
   "execution_count": 8,
   "metadata": {
    "executionInfo": {
     "elapsed": 12,
     "status": "ok",
     "timestamp": 1729588627490,
     "user": {
      "displayName": "enzo munoz",
      "userId": "17666272416348414467"
     },
     "user_tz": -120
    },
    "id": "QegO98IlhCSi"
   },
   "outputs": [],
   "source": [
    "from scipy.sparse import csr_matrix\n",
    "\n",
    "def create_user_movie_matrix(ratings_df, movie_ids):\n",
    "    \"\"\"Creates a user-movie matrix using specified movie IDs.\"\"\"\n",
    "\n",
    "    # Filter ratings for selected movies\n",
    "    filtered_ratings = ratings_df[ratings_df['movieId'].isin(movie_ids)]\n",
    "\n",
    "    # Create sparse matrix\n",
    "    user_movie_matrix = csr_matrix((filtered_ratings['label'],\n",
    "                                      (filtered_ratings['userId'],\n",
    "                                       filtered_ratings['movieId'])))\n",
    "\n",
    "    return user_movie_matrix\n",
    "\n",
    "# Create matrices for both subsets\n",
    "user_movies_sparse_1 = create_user_movie_matrix(ratings, idx_movies_1)\n",
    "user_movies_sparse_2 = create_user_movie_matrix(ratings, idx_movies_2)\n",
    "\n",
    "# Check for users with no ratings in either matrix and adjust\n",
    "# ... (Code for this check and adjustment will be added below)\n",
    "# Get users with no ratings in each matrix\n",
    "users_no_ratings_1 = np.where(user_movies_sparse_1.getnnz(axis=1) == 0)[0]\n",
    "\n",
    "users_no_ratings_2 = np.where(user_movies_sparse_2.getnnz(axis=1) == 0)[0]\n",
    "\n",
    "\n",
    "# Adjust matrices\n",
    "for user_id in users_no_ratings_1:\n",
    "    # Get movie IDs rated by this user in the other subset\n",
    "    movies_rated_by_user = ratings[ratings['userId'] == user_id]['movieId'].tolist()\n",
    "    movies_to_add = [movie_id for movie_id in movies_rated_by_user if movie_id in idx_movies_2]\n",
    "\n",
    "    # Add a movie to idx_movies_1\n",
    "    if movies_to_add:\n",
    "        idx_movies_1.append(movies_to_add[0])\n",
    "        # Recreate user_movies_sparse_1 with updated idx_movies_1\n",
    "        user_movies_sparse_1 = create_user_movie_matrix(ratings, idx_movies_1)\n",
    "\n",
    "# Similarly for users_no_ratings_2\n",
    "# ... (Repeat the logic for users_no_ratings_2)\n",
    "\n",
    "# Adjust matrices\n",
    "for user_id in users_no_ratings_2:\n",
    "    # Get movie IDs rated by this user in the other subset\n",
    "    movies_rated_by_user = ratings[ratings['userId'] == user_id]['movieId'].tolist()\n",
    "    movies_to_add = [movie_id for movie_id in movies_rated_by_user if movie_id in idx_movies_2]\n",
    "\n",
    "    # Add a movie to idx_movies_2\n",
    "    if movies_to_add:\n",
    "        idx_movies_2.append(movies_to_add[0])\n",
    "        # Recreate user_movies_sparse_2 with updated idx_movies_2\n",
    "        user_movies_sparse_2 = create_user_movie_matrix(ratings, idx_movies_1)"
   ]
  },
  {
   "cell_type": "markdown",
   "metadata": {
    "id": "qyLyllKgduuG"
   },
   "source": [
    "## 2.2.-  Jaccard similarity\n",
    "\n",
    "The similarity function that will compare the users is based in the [*Jaccard Index*](https://en.wikipedia.org/wiki/Jaccard_index), commonly used in recommender systems. Basically it computes the similarity between two users as the number of movies for which they have given the same label divided by the number of movies that at least one of them has rated.\n",
    "\n",
    "For instances, in a collection of 10 movies the rows of the users $\\times$ movies matrix corresponding to  3 users $i$, $j$ and $k$ are:\n",
    "- `users_movies[i,:] = [0,-1,0,0,0,1,0,0,1,0]`\n",
    "- `users_movies[j,:] = [0,1,0,-1,-1,1,0,0,1,0]`\n",
    "- `users_movies[k,:] = [0,1,0,0,0,0,0,0,1,0]`\n",
    "\n",
    "Then the similarities would be:\n",
    "- `s[i,j] = 2/5` as they gave the same label to 2 movies (6th and 9th) and they have rated 5 movies (2nd, 6th and 9th were rated by both users and 4th  and   5th were rated by user $j$)\n",
    "- `s[i,k] = 1/3` as they gave the same label to 1 movie (9th) and they have rated 3 movies (2nd and  9th were rated by both users and  6th by user $i$)\n",
    "- `s[k,j] = 2/5` as they gave the same label to 2 movies (2nd and 9th)   and they have rated 5 movies (2nd and 9th were rated by both users and 4th,  5th and 6th were rated by user $j$)\n",
    "\n",
    "Write code that implements the computation of the jaccard similarity between the rows of an input matrix."
   ]
  },
  {
   "cell_type": "code",
   "execution_count": 9,
   "metadata": {
    "executionInfo": {
     "elapsed": 11,
     "status": "ok",
     "timestamp": 1729588627490,
     "user": {
      "displayName": "enzo munoz",
      "userId": "17666272416348414467"
     },
     "user_tz": -120
    },
    "id": "iDsZBRmoKhi4"
   },
   "outputs": [],
   "source": [
    "def jaccard_gram_matrix(X):\n",
    "    \"\"\"Computes the Jaccard similarity matrix for a given input matrix X (CSR matrix).\"\"\"\n",
    "\n",
    "    n_users = X.shape[0]\n",
    "    similarity_matrix = np.zeros((n_users, n_users))\n",
    "    np.fill_diagonal(similarity_matrix,1)\n",
    "    for i in range(n_users):\n",
    "        for j in range(i + 1, n_users):# permits to have all the combination (i,j)\n",
    "\n",
    "            # Efficiently get non-zero indices and data for users i and j\n",
    "            user_i_indices = X[i,:].indices\n",
    "            user_i_data = X[i,:].data\n",
    "            user_j_indices = X[j,:].indices\n",
    "            user_j_data = X[j,:].data\n",
    "\n",
    "            # Find common movies and calculate intersection\n",
    "            common_movies = np.intersect1d(user_i_indices, user_j_indices)\n",
    "            intersection = np.sum(user_i_data[np.isin(user_i_indices, common_movies)] ==\n",
    "                                 user_j_data[np.isin(user_j_indices, common_movies)])\n",
    "\n",
    "            # Calculate union\n",
    "            union = len(user_i_indices) + len(user_j_indices) - len(common_movies)\n",
    "\n",
    "            if union > 0:\n",
    "                similarity = intersection / union\n",
    "            else:\n",
    "                similarity = 0\n",
    "\n",
    "            similarity_matrix[i, j] = similarity\n",
    "            similarity_matrix[j, i] = similarity\n",
    "\n",
    "\n",
    "    return similarity_matrix"
   ]
  },
  {
   "cell_type": "markdown",
   "metadata": {
    "id": "4Q0IqFoYduuH"
   },
   "source": [
    "Use the function to compute `useruser1` and `useruser2`, the affinity matrices correspoding to `user_movies_sparse_1` and `user_movies_sparse_2`"
   ]
  },
  {
   "cell_type": "code",
   "execution_count": 12,
   "metadata": {
    "executionInfo": {
     "elapsed": 187181,
     "status": "ok",
     "timestamp": 1729589238135,
     "user": {
      "displayName": "enzo munoz",
      "userId": "17666272416348414467"
     },
     "user_tz": -120
    },
    "id": "Q42HiJn2duuH"
   },
   "outputs": [],
   "source": [
    "### YOUR CODE\n",
    "useuser1 = jaccard_gram_matrix(user_movies_sparse_1)\n",
    "\n",
    "useruser2 = jaccard_gram_matrix(user_movies_sparse_2)"
   ]
  },
  {
   "cell_type": "code",
   "execution_count": 13,
   "metadata": {
    "colab": {
     "base_uri": "https://localhost:8080/"
    },
    "executionInfo": {
     "elapsed": 451,
     "status": "ok",
     "timestamp": 1729589247453,
     "user": {
      "displayName": "enzo munoz",
      "userId": "17666272416348414467"
     },
     "user_tz": -120
    },
    "id": "NSa3xtr9t2Pe",
    "outputId": "2de017a9-7f90-4983-b445-c6be70ba658e"
   },
   "outputs": [
    {
     "name": "stdout",
     "output_type": "stream",
     "text": [
      "[[1.         0.01904762 0.00952381 ... 0.07831325 0.02884615 0.09404389]\n",
      " [0.01904762 1.         0.         ... 0.00653595 0.         0.02255639]\n",
      " [0.00952381 0.         1.         ... 0.01980198 0.         0.00732601]\n",
      " ...\n",
      " [0.07831325 0.00653595 0.01980198 ... 1.         0.03010033 0.15690867]\n",
      " [0.02884615 0.         0.         ... 0.03010033 1.         0.00738007]\n",
      " [0.09404389 0.02255639 0.00732601 ... 0.15690867 0.00738007 1.        ]]\n"
     ]
    }
   ],
   "source": [
    "print(useuser1)"
   ]
  },
  {
   "cell_type": "markdown",
   "metadata": {
    "id": "Kn-d3wWLduuH"
   },
   "source": [
    "# 3.- Spectral Clustering based in the *Jaccard* similarity\n",
    "\n",
    "# 3.1.- Determine the reasonable values for the hyperparameters\n",
    "\n",
    "\n",
    "This clustering method has a single hyperparameter, **the number of groups**. A reasonable range for its value can be $[2,3,4,5,6,7,8,9,10, 12, 15, 20]$. A larger number of groups wouldn't be easy to manage. Moreover, the groups should be meaningful in the sense that at least a minimum number of 20-30 users per group would be indicative of the group capturing a pattern.\n"
   ]
  },
  {
   "cell_type": "markdown",
   "metadata": {
    "id": "UHyr1GV2duuI"
   },
   "source": [
    "## 3.2.- Determine the number of groups\n",
    "\n",
    "Write code that, for each value of `n_clusters` in the range for the number of groups:\n",
    "- Fits an spectral clustering with `useruser1`\n",
    "- Let us call `clustering1` to an array with the group memberships of the users. That is, `clustering1[i]=k` means that user $i$ is in cluster $k$.\n",
    "- Fits an spectral clustering with  `useruser2`\n",
    "- Let us call `clustering2` to an array with the group memberships of the users. That is, `clustering2[i]=k` means that user $i$ is in cluster $k$.\n",
    "- Compute the mutual information between `clustering1` and `clustering2`\n",
    "- Check that the size of the smallest cluster is reasonable"
   ]
  },
  {
   "cell_type": "code",
   "execution_count": 19,
   "metadata": {
    "colab": {
     "base_uri": "https://localhost:8080/"
    },
    "executionInfo": {
     "elapsed": 10837,
     "status": "ok",
     "timestamp": 1729593121792,
     "user": {
      "displayName": "enzo munoz",
      "userId": "17666272416348414467"
     },
     "user_tz": -120
    },
    "id": "7kmKc-keT9PU",
    "outputId": "3cb7dc93-4999-4fa7-8f63-cd0bf7473d27"
   },
   "outputs": [
    {
     "name": "stdout",
     "output_type": "stream",
     "text": [
      "Results for n_clusters in the range:\n",
      "    n_clusters  mi_score  min_cluster_size1  min_cluster_size2\n",
      "0            2  0.414345                128                132\n",
      "1            3  0.418352                 23                101\n",
      "2            4  0.717380                 23                 26\n",
      "3            5  0.728485                 23                 26\n",
      "4            6  0.637921                  3                 14\n",
      "5            7  0.648355                  2                  2\n",
      "6            8  0.659107                  1                  1\n",
      "7            9  0.751756                  1                  1\n",
      "8           10  0.704715                  1                  1\n",
      "9           12  0.758106                  1                  1\n",
      "10          15  0.898008                  1                  1\n",
      "11          20  0.552973                  1                  1\n",
      "[ 4 10  7  4  4  4  4  4  3  3  2 16  0  2  4 10  4  4  4  4  4  2 10  4\n",
      "  3  4  4  4  4  3  4  4  4  4  4 12  4  4  4  4  4  4  4 14  4  4  2  0\n",
      "  0 10  4  4 19  2  0  4  4  4 10 10  3  4  4  4  3  4  0  4  4  2 14  4\n",
      "  4 10  3 10  3  4  4  4  4  4  2  4 16  4 18  3  4 14  4 17  2  4  4  4\n",
      "  0  2  4  2 18  4  4  4  4  3  4  4  4 10  4  4  2  0  4  2  4 10  4 14\n",
      "  4  4  0  2  4  4 12 10  4  4 10  4  2  4  4  4  4  5  4  4  4  4  2  4\n",
      "  4 19 12  0  4 14 14 10  4  2 10  4 18  6  2  4 19  2 15  4  4  4  4 10\n",
      "  4  2 10  4  2  4  1  4  4  4  4 10  4  4  4 10  3  4  4  2  3  4  4  2\n",
      " 10 12  4  0  0  4  4  4  4  4  3 10  2 14 18  0  3  3  4 10  3 14  3  4\n",
      "  4  3  4  4 10  4  4  2  4  4 10  0  4  4  0  4  4  4  4 18  0 10  4  4\n",
      " 10  4  2  4  2  4  4  0  4  2 10  9 10  4  0  4  0  0  4 10  4  4  4  4\n",
      "  4  4  4  4 14 14  0  0  4  4  4  2 14 11  4  2  8  4  2  4 10  4  4  4\n",
      "  3 10  0  4  4  4 10  2  4  4  0  2  4 10  0  4  4  0  4  4  3  4  0  4\n",
      "  4  4  7  0 10  4 10  4  4  4  4 10  4  3  2  4 10  4  4  4  7  4  2  2\n",
      " 14 10  4  4 10 18  3  2 19 10  4 10  4 14  4  4  4  4  4  4  4 16  4 15\n",
      "  4  4 10 14  4  3  2  4  4  4  0  4  4  4  2  4  4  3  4  4  4  4  0 10\n",
      "  4  4  4  9 14  0  4 18  3  2  4  9 10 10  3 10  0  4 10  4 10 13  3  3\n",
      " 10 10  4 10 10  4 10 10  3 10  4  4 18 10  2 10  4  2  3  4  4  0 12  4\n",
      " 10  4 10  4  4  4  3  0 10 13  3  4  4  4  4  4 18 10 14  4  4 10  4 14\n",
      " 10  4  0  3  2  4  3  4  4  3 16  4  4  4 10  3 10  4  4  4  4  4  4  4\n",
      " 15  4  4  4  4  4  3  3  4 10  2 14  4  4  4  3 10  4 10  2 14  9  2  3\n",
      " 18 10  2  6  4  4  3  4  4  4 10  4  4  9  2  4 14  4  3  4  4 10  4  4\n",
      " 14  2  4 10  2  4 18  2  3 10  9  0  4  4  4 14 17  2 18  0  0  0  4  4\n",
      " 10  2  4  3  0  2  4  4  4  4  2  2  4  4 10  2  4  4  0  4  4  4  0 11\n",
      "  4 16  2  4  3  0  2  4 10  4  4  4  2  4  2  4  4  4  2  4  4  8  4  4\n",
      "  3  4  4  4  4  4  4  4  4  4]\n"
     ]
    }
   ],
   "source": [
    "### YOUR CODE\n",
    "from sklearn.cluster import SpectralClustering\n",
    "from sklearn.metrics import mutual_info_score\n",
    "\n",
    "# Range of cluster numbers to explore\n",
    "n_clusters_range = [2, 3, 4, 5, 6, 7, 8, 9, 10, 12, 15, 20]\n",
    "\n",
    "# Store results\n",
    "results = []\n",
    "\n",
    "for n_clusters in n_clusters_range:\n",
    "    # Fit spectral clustering for both affinity matrices\n",
    "    clustering1 = SpectralClustering(n_clusters=n_clusters, affinity='precomputed').fit_predict(useuser1)\n",
    "    clustering2 = SpectralClustering(n_clusters=n_clusters, affinity='precomputed').fit_predict(useruser2)\n",
    "\n",
    "    # Calculate mutual information\n",
    "    mi_score = mutual_info_score(clustering1, clustering2)\n",
    "\n",
    "    # Check cluster sizes\n",
    "    cluster_sizes1 = np.bincount(clustering1)\n",
    "    cluster_sizes2 = np.bincount(clustering2)\n",
    "    min_cluster_size1 = np.min(cluster_sizes1)\n",
    "    min_cluster_size2 = np.min(cluster_sizes2)\n",
    "\n",
    "    # Store results\n",
    "    results.append({\n",
    "        'n_clusters': n_clusters,\n",
    "        'mi_score': mi_score,\n",
    "        'min_cluster_size1': min_cluster_size1,\n",
    "        'min_cluster_size2': min_cluster_size2\n",
    "    })\n",
    "\n",
    "print(\"Results for n_clusters in the range:\")\n",
    "res = pd.DataFrame(results)\n",
    "print(res)\n",
    "print(clustering1)\n",
    "\n",
    "# Analyze results (e.g., find the best n_clusters)\n",
    "# ... (Code to analyze results and decide on the best n_clusters)"
   ]
  },
  {
   "cell_type": "markdown",
   "metadata": {
    "id": "WA54iPGWUxv1"
   },
   "source": [
    "**Decide the best number of groups according to the criteria discussed above**. Compare this number with the elbow in the plot of the eigenvalues of matrices `useruser1` and `useruser2`"
   ]
  },
  {
   "cell_type": "code",
   "execution_count": 15,
   "metadata": {
    "colab": {
     "base_uri": "https://localhost:8080/",
     "height": 565
    },
    "executionInfo": {
     "elapsed": 507,
     "status": "ok",
     "timestamp": 1729589301843,
     "user": {
      "displayName": "enzo munoz",
      "userId": "17666272416348414467"
     },
     "user_tz": -120
    },
    "id": "7k8UwRtAVPDB",
    "outputId": "4dd73787-ea58-48c2-a499-a3b1bd378d7b"
   },
   "outputs": [
    {
     "name": "stdout",
     "output_type": "stream",
     "text": [
      "Best n_clusters based on MI and cluster size: 5\n",
      "MI score for best n_clusters: 0.7316894356351094\n",
      "26.700095467922505\n",
      "[3.071965101452083, 3.1001860617866344, 3.176659178139653, 3.4987214379414, 3.578550114807016, 3.7148032439762173, 4.19555013930882, 4.420943315344467, 5.310366350242871, 6.287378760703563, 8.40311453883867, 13.581969728258157, 26.70109513140644]\n"
     ]
    },
    {
     "data": {
      "image/png": "[encoded data removed]",
      "text/plain": [
       "<Figure size 640x480 with 1 Axes>"
      ]
     },
     "metadata": {},
     "output_type": "display_data"
    }
   ],
   "source": [
    "### YOUR CODE\n",
    "## We see that the best MI score is obtained with more and more clusters but we have to satisfy\n",
    "##the minimum size of the prior which must be greater than 20\n",
    "## So 5 clusters !!\n",
    "import pandas as pd\n",
    "\n",
    "# Convert results to a DataFrame for easier analysis\n",
    "results_df = pd.DataFrame(results)\n",
    "\n",
    "# Filter for reasonable cluster sizes (e.g., minimum size >= 20)\n",
    "filtered_results = results_df[(results_df['min_cluster_size1'] >= 20) &\n",
    "                              (results_df['min_cluster_size2'] >= 20)]\n",
    "\n",
    "# Find the n_clusters with the highest MI score in the filtered results\n",
    "best_n_clusters = filtered_results.loc[filtered_results['mi_score'].idxmax(), 'n_clusters']\n",
    "\n",
    "print(f\"Best n_clusters based on MI and cluster size: {best_n_clusters}\")\n",
    "print(f\"MI score for best n_clusters: {filtered_results.loc[filtered_results['mi_score'].idxmax(), 'mi_score']}\")\n",
    "from scipy.sparse.linalg import eigsh\n",
    "\n",
    "# Calculate eigenvalues for useruser1\n",
    "eigenvalues1 = eigsh(useuser1, k=min(20, useuser1.shape[0] - 1), return_eigenvectors=False)\n",
    "\n",
    "# Calculate eigenvalues for useruser2\n",
    "eigenvalues2 = eigsh(useruser2, k=min(20, useruser2.shape[0] - 1), return_eigenvectors=False)\n",
    "\n",
    "# Set the eigenvalue threshold\n",
    "eigenvalue_threshold = 3# Example threshold\n",
    "\n",
    "# Keep eigenvalues above the threshold for useruser1\n",
    "eigenvalues1_filtered = [ev for ev in eigenvalues1 if ev >= eigenvalue_threshold]\n",
    "\n",
    "# Keep eigenvalues above the threshold for useruser2\n",
    "eigenvalues2_filtered = [ev for ev in eigenvalues2 if ev >= eigenvalue_threshold]\n",
    "print(eigenvalues1_filtered[-1])\n",
    "print(eigenvalues2_filtered)\n",
    "# Plot eigenvalues\n",
    "plt.plot(eigenvalues1_filtered, marker='o', label='useruser1')\n",
    "plt.plot(eigenvalues2_filtered, marker='o', label='useruser2')\n",
    "plt.xlabel('Eigenvalue Index')\n",
    "plt.ylabel('Eigenvalue')\n",
    "plt.title('Eigenvalues of Affinity Matrices')\n",
    "plt.legend()\n",
    "plt.show()"
   ]
  },
  {
   "cell_type": "markdown",
   "metadata": {
    "id": "8ceS2xFbVf5b"
   },
   "source": [
    "# 4.-  Spectral Clustering with  graph neighbors\n",
    "\n",
    "\n",
    "Now explore modifications of the affinity matrix for the spectral clustering by fixing the number of neighbors in each row. Starting with the Jaccard affinity matrix, and use `affinity='precomputed_nearest_neighbors'`\n",
    "and `n_neighbors` in the range [5,10,20,50,100,150,200].\n",
    "\n",
    "Use the supervision decribed in section 3.2 to find good values for the numbr of groups and the number of graph neighbors"
   ]
  },
  {
   "cell_type": "code",
   "execution_count": 16,
   "metadata": {
    "colab": {
     "base_uri": "https://localhost:8080/"
    },
    "executionInfo": {
     "elapsed": 24640,
     "status": "ok",
     "timestamp": 1729591776097,
     "user": {
      "displayName": "enzo munoz",
      "userId": "17666272416348414467"
     },
     "user_tz": -120
    },
    "id": "X66HPVaEduuI",
    "outputId": "222801f5-5f31-49dd-b5b9-883af7e594c8"
   },
   "outputs": [
    {
     "name": "stdout",
     "output_type": "stream",
     "text": [
      "    n_neighbors  n_clusters  mi_score  min_cluster_size1  min_cluster_size2\n",
      "0             5           2  0.387678                 91                 93\n",
      "1             5           3  0.522010                 22                 25\n",
      "2             5           4  0.808822                 22                 25\n",
      "3             5           5  0.894979                 22                 25\n",
      "4             5           6  1.102942                 22                 25\n",
      "..          ...         ...       ...                ...                ...\n",
      "79          200           9  1.212302                 31                 27\n",
      "80          200          10  1.295472                 30                 27\n",
      "81          200          12  1.339981                 25                 16\n",
      "82          200          15  1.418149                 12                 14\n",
      "83          200          20  1.390173                  6                  7\n",
      "\n",
      "[84 rows x 5 columns]\n"
     ]
    }
   ],
   "source": [
    "### YOUR CODE\n",
    "from sklearn.cluster import SpectralClustering\n",
    "from sklearn.metrics import mutual_info_score\n",
    "from sklearn.neighbors import kneighbors_graph\n",
    "\n",
    "# Range of n_neighbors to explore\n",
    "n_neighbors_range = [5, 10, 20, 50, 100, 150, 200]\n",
    "\n",
    "# Store results\n",
    "results_neighbors = []\n",
    "\n",
    "for n_neighbors in n_neighbors_range:\n",
    "    # Create graph neighbor affinity matrices\n",
    "    affinity_matrix1 = kneighbors_graph(useuser1, n_neighbors=n_neighbors, include_self=True)\n",
    "    affinity_matrix2 = kneighbors_graph(useruser2, n_neighbors=n_neighbors, include_self=True)\n",
    "\n",
    "    for n_clusters in n_clusters_range:  # Using the same n_clusters_range as before\n",
    "        # Fit spectral clustering\n",
    "        clustering1 = SpectralClustering(n_clusters=n_clusters, affinity='precomputed_nearest_neighbors', n_neighbors=n_neighbors).fit_predict(affinity_matrix1)\n",
    "        clustering2 = SpectralClustering(n_clusters=n_clusters, affinity='precomputed_nearest_neighbors', n_neighbors=n_neighbors).fit_predict(affinity_matrix2)\n",
    "\n",
    "        # Calculate mutual information and cluster sizes (same as before)\n",
    "        mi_score = mutual_info_score(clustering1, clustering2)\n",
    "        cluster_sizes1 = np.bincount(clustering1)\n",
    "        cluster_sizes2 = np.bincount(clustering2)\n",
    "        min_cluster_size1 = np.min(cluster_sizes1)\n",
    "        min_cluster_size2 = np.min(cluster_sizes2)\n",
    "\n",
    "        # Store results\n",
    "        results_neighbors.append({\n",
    "            'n_neighbors': n_neighbors,\n",
    "            'n_clusters': n_clusters,\n",
    "            'mi_score': mi_score,\n",
    "            'min_cluster_size1': min_cluster_size1,\n",
    "            'min_cluster_size2': min_cluster_size2\n",
    "        })\n",
    "\n",
    "res = pd.DataFrame(results_neighbors)\n",
    "print(res)\n",
    "# Analyze results_neighbors to find best hyperparameters\n",
    "# ... (Code to analyze results and decide on the best n_neighbors and n_clusters)"
   ]
  },
  {
   "cell_type": "code",
   "execution_count": 17,
   "metadata": {
    "colab": {
     "base_uri": "https://localhost:8080/"
    },
    "executionInfo": {
     "elapsed": 430,
     "status": "ok",
     "timestamp": 1729591840347,
     "user": {
      "displayName": "enzo munoz",
      "userId": "17666272416348414467"
     },
     "user_tz": -120
    },
    "id": "dNef3kyVduuJ",
    "outputId": "3474bc32-4d09-4de0-b4e1-85f45065f28d"
   },
   "outputs": [
    {
     "name": "stdout",
     "output_type": "stream",
     "text": [
      "the best n_neighbors and n_clusters based on MI and cluster size: n_neighbors    50.000000\n",
      "n_clusters     15.000000\n",
      "mi_score        1.553027\n",
      "Name: 46, dtype: float64\n"
     ]
    }
   ],
   "source": [
    "### YOUR CODE\n",
    "filtered_results_neighbors = res[(res['min_cluster_size1'] >= 20) &\n",
    "                              (res['min_cluster_size2'] >= 20)]\n",
    "\n",
    "print(\"the best n_neighbors and n_clusters based on MI and cluster size:\", filtered_results_neighbors.loc[filtered_results_neighbors['mi_score'].idxmax(), ['n_neighbors', 'n_clusters','mi_score']])\n",
    "best_n_cluster = filtered_results_neighbors.loc[filtered_results_neighbors['mi_score'].idxmax(), 'n_clusters']\n",
    "best_n_neighbor = filtered_results_neighbors.loc[filtered_results_neighbors['mi_score'].idxmax(), 'n_neighbors']"
   ]
  },
  {
   "cell_type": "markdown",
   "metadata": {
    "id": "Os2oQ5yyduuK"
   },
   "source": [
    "For the same number of clusters (and providing the size of the smallest group is reasonable), is there any number of neighbors that beats the spectral clustering of section 3.2 in terms of Mutual Information between the two partitions?"
   ]
  },
  {
   "cell_type": "markdown",
   "metadata": {
    "id": "H1ZNmrj9duuM"
   },
   "source": [
    "# 5.- Final clustering\n",
    "\n",
    "Decide what will be the final spectral clustering model, the one based in sectin 3.2 or the graph neighbors based of section 4.\n",
    "\n",
    "\n",
    "Build the overall sparse affinity matrix `useruser` with the Jaccard index and all the movies."
   ]
  },
  {
   "cell_type": "code",
   "execution_count": 18,
   "metadata": {
    "executionInfo": {
     "elapsed": 98370,
     "status": "ok",
     "timestamp": 1729591949734,
     "user": {
      "displayName": "enzo munoz",
      "userId": "17666272416348414467"
     },
     "user_tz": -120
    },
    "id": "cNDc2aZPduuM"
   },
   "outputs": [],
   "source": [
    "### YOUR CODE\n",
    "## The best one is section 4\n",
    "# Create user-movie matrix with all movies\n",
    "user_movies_sparse_all = create_user_movie_matrix(ratings, movies['movieId'].tolist())\n",
    "\n",
    "# Calculate Jaccard similarity matrix\n",
    "useruser = jaccard_gram_matrix(user_movies_sparse_all)"
   ]
  },
  {
   "cell_type": "markdown",
   "metadata": {
    "id": "Yiyt_qBbduuM"
   },
   "source": [
    "Fit the final spectral clustering with the best hyperparamters found before."
   ]
  },
  {
   "cell_type": "code",
   "execution_count": 20,
   "metadata": {
    "colab": {
     "base_uri": "https://localhost:8080/"
    },
    "executionInfo": {
     "elapsed": 543,
     "status": "ok",
     "timestamp": 1729593178456,
     "user": {
      "displayName": "enzo munoz",
      "userId": "17666272416348414467"
     },
     "user_tz": -120
    },
    "id": "ap1bjOONduuM",
    "outputId": "c9fd6da3-c6a3-4e43-a826-b00b8886e206"
   },
   "outputs": [
    {
     "name": "stdout",
     "output_type": "stream",
     "text": [
      "[ 4  1  0  7  3  3 10  3 11  1 14  0 11  3 10  2  8  6  4 13 13 13  7 10\n",
      "  9 12  7  6  7  9  5 14 14 13 14  0 12  3  7  3 13  4  3  5  4 12 13 11\n",
      "  9 13  7 10  0 12  0 12  4  3  7 11  2 10  6  6  9  4  9  6 14  2  5  8\n",
      " 10  7 11  2  9 14 14 10 12 13 10  4  0  8  0  9 13  5  6  0 14  3  7 14\n",
      " 11  1 12  7 11  3  6 13 10  1 12 11  3  2 13 14  7  1 14 14  3  2 10  5\n",
      "  3 10  9  2 10 12  0  7 10 12  2  6 12 12  4  3  7  0 13  4 10 12  1  8\n",
      " 12  0  0  1 11  5  5  2 13  1 11  4 11  0 13  4  0 14  0 14 11  8 13  7\n",
      " 13  3 14 11 12  3  0 12  6  8  3 11  3  6 14  1 11  4  8  0  9  2 14 12\n",
      "  2  0  4 11 11  4  4  6 14  4 11  2  1  5  0 11  9 10 10 10 11  5  2  7\n",
      "  4 11  6  8  7 13 13  7 11  6  2 11  3 13  9  6  8 14  3  0 11  0  8  3\n",
      "  2 12 14 14  0 10  8  1  6  0  2  1  0  8  0 10  0  9 11  7  2  5  8 11\n",
      " 14  4 14  7  5  5  0  1  3  6  4  5  5 11 10 13  0  8 14  3  7  8 13  6\n",
      "  0  7  1  6  0  4  2  2 14  6 11  2  8  5 11  4  6  1  6 13  7 11  0  4\n",
      "  4  3  0 11  8  6  9  0  3  2 14  0  7  2  2  6  0  8 10  8  0 13 14  8\n",
      "  5  2 10 12  1 11  2 10  0  7 12  2 12  5 10 10  3  8  0  8  6  0 14  0\n",
      " 13  8 11  5 13  9  7  4 13  8 11  4  3 12 11  4 11  9 12  6  6 10  0 11\n",
      "  4  3  6  0  5  2  4 11 10 12  3 11  0  1  8  8  1 14 11  3  2  0  9 10\n",
      "  7  7  3  7  2  6  8  2  8  2  8  8  2  7 14  2  6 13 11  6 12 11  0 10\n",
      "  2  8  9  3 14  6  9  0  9  0  2 12  8  3  3  6  2 11  5  4  4  2  3  5\n",
      " 11  3  1  9  2  7 11  8  7 10  0 12  4  3  2  9 11  6 10  3  6  0  7  6\n",
      "  0 11  6 13 12 12  1  7  6 13  1  5 14 14 10  1  2 12  0 11  5 11  2 11\n",
      " 11  0 12  0 13  7  9  3 14  4  9 11 13  0  1 10  5 10  9 14  6  2  7  2\n",
      "  5 12 11 14 11 10 11 12  9  1  1  9  3 13 11  5  0  0  0 11  9  9 10 13\n",
      "  2  7  4  1 11 11  3  6  6  8  1  1 12  3 13 11 12  4  0  7  8 12 11  0\n",
      "  4  0 14  6  9  9  1  3  2 10  7 12 14  6 11  3  8 14  0  6  4  1  6  6\n",
      " 10  3  4  3 13  6  4  6 12  6]\n",
      "       userId  movieId  label  cluster\n",
      "0           0        0      1        4\n",
      "1           0        2      1        4\n",
      "2           0        5      1        4\n",
      "3           0       46      1        4\n",
      "4           0       49      1        4\n",
      "...       ...      ...    ...      ...\n",
      "67893     609   148625      1        6\n",
      "67894     609   152080      1        6\n",
      "67895     609   164178      1        6\n",
      "67896     609   166527      1        6\n",
      "67897     609   168251      1        6\n",
      "\n",
      "[67898 rows x 4 columns]\n"
     ]
    }
   ],
   "source": [
    "### YOUR CODE\n",
    "affinity_matrix1 = kneighbors_graph(useruser, n_neighbors=best_n_neighbor, include_self=True)\n",
    "\n",
    "\n",
    "# Fit spectral clustering\n",
    "final_clustering = SpectralClustering(n_clusters=best_n_cluster, affinity='precomputed_nearest_neighbors', n_neighbors=best_n_neighbor).fit_predict(affinity_matrix1)\n",
    "print(final_clustering)\n",
    "# Supposons que vous ayez les assignations de cluster finales dans une variable appelée 'final_clustering'\n",
    "# et que les IDs uniques soient dans une variable appelée 'unique_ids'\n",
    "unique_ids = ratings['userId'].unique()\n",
    "# Créer un dictionnaire pour mapper les IDs uniques à leurs clusters\n",
    "id_to_cluster = dict(zip(unique_ids, final_clustering))\n",
    "\n",
    "# Ajouter la nouvelle colonne 'cluster' à 'ratings' en utilisant le mappage\n",
    "ratings['cluster'] = ratings['userId'].map(id_to_cluster)\n",
    "print(ratings)\n"
   ]
  },
  {
   "cell_type": "markdown",
   "metadata": {
    "id": "qwLzfMgpduuM"
   },
   "source": [
    "# 6.- Interpretation based on average votes\n",
    "\n",
    "For each group in the previous section, print the 10 movies that obtain a higher average label among the users in the group (movies loved by users in this group) and the 10 movies with the lowest average label (movies hated by users in this group)."
   ]
  },
  {
   "cell_type": "code",
   "execution_count": null,
   "metadata": {
    "executionInfo": {
     "elapsed": 7,
     "status": "aborted",
     "timestamp": 1729588732378,
     "user": {
      "displayName": "enzo munoz",
      "userId": "17666272416348414467"
     },
     "user_tz": -120
    },
    "id": "Y2URQTK3duuM"
   },
   "outputs": [],
   "source": [
    "### YOUR CODE\n",
    "# Assuming you have the final clustering assignments in a variable called 'final_clustering'\n",
    "\n",
    "# Get unique cluster labels\n",
    "unique_clusters = np.unique(final_clustering)\n",
    "\n",
    "# Iterate through each cluster\n",
    "for cluster_id in unique_clusters:\n",
    "    cluster_ratings = ratings.loc[ratings['cluster'] == cluster_id]\n",
    "    # Calculate average label for each movie\n",
    "    average_labels = cluster_ratings.groupby('movieId')['label'].mean()\n",
    "\n",
    "    # Get top 10 loved and hated movies\n",
    "    top_loved = average_labels.sort_values(ascending=False).head(10)\n",
    "    top_hated = average_labels.sort_values(ascending=True).head(10)\n",
    "\n",
    "    # Print results\n",
    "    print(f\"Cluster {cluster_id}:\")\n",
    "    print(\"Top 10 Loved Movies:\")\n",
    "    print(movies[movies['movieId'].isin(top_loved.index)]['title'])  # Get movie titles\n",
    "    print(\"\\nTop 10 Hated Movies:\")\n",
    "    print(movies[movies['movieId'].isin(top_hated.index)]['title'])  # Get movie titles\n",
    "    print(\"\\n\")"
   ]
  },
  {
   "cell_type": "markdown",
   "metadata": {
    "id": "5f7T_bMWduuN"
   },
   "source": [
    "# 7.- Interpretation based in classification\n",
    "\n",
    "The hated or loved movies lists in the previous section present repeated items. Those movies get a lot of labels in general independently of the group of users we look at. Therefore these movies are not very representative of any of the groups of users.\n",
    "\n",
    "In this section you will use a classifier in which one can easily infer the relevance of the features (such as random forest) in order to find the most representative movies from each cluster.\n",
    "\n",
    "For each group of users from section 5:\n",
    "- Create an array with binary classification *targets* with length equal to the number of users. This array will have a positive target ($+1$) in the positions corresponding to users members of the group, and a negative lable in the positions corresponding to the non-members of the group.\n",
    "\n",
    "- Fit a random forest with a hyperparameter set that forces an accuracy in the traninig set close to 1. Use the users $\\times$ movies matrix as observations with the targets in the previous bullet point.\n",
    "\n",
    "- Get the relevance of each movie in the classification from attribute `feature_importances_`.\n",
    "\n",
    "- Build a DataFrame with the 10 most relevant movies showing for each of them:\n",
    "    - Title\n",
    "    - value of `feature_importances_`\n",
    "    - Average label from the members of the group\n",
    "    - Average label from the non-members of the group\n",
    "\n"
   ]
  },
  {
   "cell_type": "code",
   "execution_count": null,
   "metadata": {
    "executionInfo": {
     "elapsed": 7,
     "status": "aborted",
     "timestamp": 1729588732378,
     "user": {
      "displayName": "enzo munoz",
      "userId": "17666272416348414467"
     },
     "user_tz": -120
    },
    "id": "cHqj9Sc_duuN",
    "scrolled": true
   },
   "outputs": [],
   "source": [
    "### YOUR CODE\n",
    "from sklearn.ensemble import RandomForestClassifier\n",
    "\n",
    "# Get unique cluster labels\n",
    "unique_clusters = np.unique(final_clustering)\n",
    "\n",
    "# Iterate through each cluster\n",
    "for cluster_id in unique_clusters:\n",
    "    # Create binary targets for classification\n",
    "    targets = np.where(final_clustering == cluster_id, 1, 0)  # 1 for cluster members, 0 for others\n",
    "\n",
    "    # Fit Random Forest classifier with high accuracy\n",
    "    rf_classifier = RandomForestClassifier(n_estimators=100, random_state=42)  # Adjust parameters as needed\n",
    "    rf_classifier.fit(user_movies_sparse_all, targets)\n",
    "\n",
    "    # Get feature importances (movie relevance)\n",
    "    feature_importances = rf_classifier.feature_importances_\n",
    "\n",
    "    # Get top 10 most relevant movies\n",
    "    top_movie_indices = np.argsort(feature_importances)[-10:]  # Indices of top 10 movies\n",
    "\n",
    "    # Create DataFrame for results\n",
    "    results_df = pd.DataFrame({\n",
    "        'title': movies.loc[movies['movieId'].isin(top_movie_indices), 'title'].values,\n",
    "        'feature_importance': feature_importances[top_movie_indices],\n",
    "        'avg_label_cluster': average_labels[top_movie_indices],  # Assuming you have 'average_labels'\n",
    "        'avg_label_others': ratings[ratings['cluster'] != cluster_id].groupby('movieId')['label'].mean()[top_movie_indices]\n",
    "    })\n",
    "\n",
    "    # Print results\n",
    "    print(f\"Cluster {cluster_id}:\")\n",
    "    print(results_df)\n",
    "    print(\"\\n\")"
   ]
  },
  {
   "cell_type": "code",
   "execution_count": null,
   "metadata": {
    "executionInfo": {
     "elapsed": 7,
     "status": "aborted",
     "timestamp": 1729588732378,
     "user": {
      "displayName": "enzo munoz",
      "userId": "17666272416348414467"
     },
     "user_tz": -120
    },
    "id": "BMCE9xR7duuO"
   },
   "outputs": [],
   "source": []
  },
  {
   "cell_type": "code",
   "execution_count": null,
   "metadata": {
    "executionInfo": {
     "elapsed": 7,
     "status": "aborted",
     "timestamp": 1729588732378,
     "user": {
      "displayName": "enzo munoz",
      "userId": "17666272416348414467"
     },
     "user_tz": -120
    },
    "id": "k0hMoho6UxAt"
   },
   "outputs": [],
   "source": []
  }
 ],
 "metadata": {
  "colab": {
   "provenance": []
  },
  "kernelspec": {
   "display_name": "ML_env",
   "language": "python",
   "name": "python3"
  },
  "language_info": {
   "codemirror_mode": {
    "name": "ipython",
    "version": 3
   },
   "file_extension": ".py",
   "mimetype": "text/x-python",
   "name": "python",
   "nbconvert_exporter": "python",
   "pygments_lexer": "ipython3",
   "version": "3.13.3"
  }
 },
 "nbformat": 4,
 "nbformat_minor": 0
}
